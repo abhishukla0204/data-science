{
 "cells": [
  {
   "cell_type": "code",
   "execution_count": null,
   "metadata": {},
   "outputs": [],
   "source": [
    "library(class)"
   ]
  },
  {
   "cell_type": "code",
   "execution_count": 12,
   "metadata": {},
   "outputs": [],
   "source": [
    "import pandas as pd\n",
    "import numpy as np\n",
    "from sklearn.neighbors import KNeighborsClassifier\n",
    "from sklearn.metrics import confusion_matrix"
   ]
  },
  {
   "cell_type": "code",
   "execution_count": null,
   "metadata": {},
   "outputs": [
    {
     "data": {
      "text/html": [
       "<table class=\"dataframe\">\n",
       "<caption>A data.frame: 6 × 32</caption>\n",
       "<thead>\n",
       "\t<tr><th></th><th scope=col>id</th><th scope=col>diagnosis</th><th scope=col>radius_mean</th><th scope=col>texture_mean</th><th scope=col>perimeter_mean</th><th scope=col>area_mean</th><th scope=col>smoothness_mean</th><th scope=col>compactness_mean</th><th scope=col>concavity_mean</th><th scope=col>concave.points_mean</th><th scope=col>⋯</th><th scope=col>radius_worst</th><th scope=col>texture_worst</th><th scope=col>perimeter_worst</th><th scope=col>area_worst</th><th scope=col>smoothness_worst</th><th scope=col>compactness_worst</th><th scope=col>concavity_worst</th><th scope=col>concave.points_worst</th><th scope=col>symmetry_worst</th><th scope=col>fractal_dimension_worst</th></tr>\n",
       "\t<tr><th></th><th scope=col>&lt;int&gt;</th><th scope=col>&lt;chr&gt;</th><th scope=col>&lt;dbl&gt;</th><th scope=col>&lt;dbl&gt;</th><th scope=col>&lt;dbl&gt;</th><th scope=col>&lt;dbl&gt;</th><th scope=col>&lt;dbl&gt;</th><th scope=col>&lt;dbl&gt;</th><th scope=col>&lt;dbl&gt;</th><th scope=col>&lt;dbl&gt;</th><th scope=col>⋯</th><th scope=col>&lt;dbl&gt;</th><th scope=col>&lt;dbl&gt;</th><th scope=col>&lt;dbl&gt;</th><th scope=col>&lt;dbl&gt;</th><th scope=col>&lt;dbl&gt;</th><th scope=col>&lt;dbl&gt;</th><th scope=col>&lt;dbl&gt;</th><th scope=col>&lt;dbl&gt;</th><th scope=col>&lt;dbl&gt;</th><th scope=col>&lt;dbl&gt;</th></tr>\n",
       "</thead>\n",
       "<tbody>\n",
       "\t<tr><th scope=row>1</th><td>  842302</td><td>M</td><td>17.99</td><td>10.38</td><td>122.80</td><td>1001.0</td><td>0.11840</td><td>0.27760</td><td>0.3001</td><td>0.14710</td><td>⋯</td><td>25.38</td><td>17.33</td><td>184.60</td><td>2019.0</td><td>0.1622</td><td>0.6656</td><td>0.7119</td><td>0.2654</td><td>0.4601</td><td>0.11890</td></tr>\n",
       "\t<tr><th scope=row>2</th><td>  842517</td><td>M</td><td>20.57</td><td>17.77</td><td>132.90</td><td>1326.0</td><td>0.08474</td><td>0.07864</td><td>0.0869</td><td>0.07017</td><td>⋯</td><td>24.99</td><td>23.41</td><td>158.80</td><td>1956.0</td><td>0.1238</td><td>0.1866</td><td>0.2416</td><td>0.1860</td><td>0.2750</td><td>0.08902</td></tr>\n",
       "\t<tr><th scope=row>3</th><td>84300903</td><td>M</td><td>19.69</td><td>21.25</td><td>130.00</td><td>1203.0</td><td>0.10960</td><td>0.15990</td><td>0.1974</td><td>0.12790</td><td>⋯</td><td>23.57</td><td>25.53</td><td>152.50</td><td>1709.0</td><td>0.1444</td><td>0.4245</td><td>0.4504</td><td>0.2430</td><td>0.3613</td><td>0.08758</td></tr>\n",
       "\t<tr><th scope=row>4</th><td>84348301</td><td>M</td><td>11.42</td><td>20.38</td><td> 77.58</td><td> 386.1</td><td>0.14250</td><td>0.28390</td><td>0.2414</td><td>0.10520</td><td>⋯</td><td>14.91</td><td>26.50</td><td> 98.87</td><td> 567.7</td><td>0.2098</td><td>0.8663</td><td>0.6869</td><td>0.2575</td><td>0.6638</td><td>0.17300</td></tr>\n",
       "\t<tr><th scope=row>5</th><td>84358402</td><td>M</td><td>20.29</td><td>14.34</td><td>135.10</td><td>1297.0</td><td>0.10030</td><td>0.13280</td><td>0.1980</td><td>0.10430</td><td>⋯</td><td>22.54</td><td>16.67</td><td>152.20</td><td>1575.0</td><td>0.1374</td><td>0.2050</td><td>0.4000</td><td>0.1625</td><td>0.2364</td><td>0.07678</td></tr>\n",
       "\t<tr><th scope=row>6</th><td>  843786</td><td>M</td><td>12.45</td><td>15.70</td><td> 82.57</td><td> 477.1</td><td>0.12780</td><td>0.17000</td><td>0.1578</td><td>0.08089</td><td>⋯</td><td>15.47</td><td>23.75</td><td>103.40</td><td> 741.6</td><td>0.1791</td><td>0.5249</td><td>0.5355</td><td>0.1741</td><td>0.3985</td><td>0.12440</td></tr>\n",
       "</tbody>\n",
       "</table>\n"
      ],
      "text/latex": [
       "A data.frame: 6 × 32\n",
       "\\begin{tabular}{r|lllllllllllllllllllll}\n",
       "  & id & diagnosis & radius\\_mean & texture\\_mean & perimeter\\_mean & area\\_mean & smoothness\\_mean & compactness\\_mean & concavity\\_mean & concave.points\\_mean & ⋯ & radius\\_worst & texture\\_worst & perimeter\\_worst & area\\_worst & smoothness\\_worst & compactness\\_worst & concavity\\_worst & concave.points\\_worst & symmetry\\_worst & fractal\\_dimension\\_worst\\\\\n",
       "  & <int> & <chr> & <dbl> & <dbl> & <dbl> & <dbl> & <dbl> & <dbl> & <dbl> & <dbl> & ⋯ & <dbl> & <dbl> & <dbl> & <dbl> & <dbl> & <dbl> & <dbl> & <dbl> & <dbl> & <dbl>\\\\\n",
       "\\hline\n",
       "\t1 &   842302 & M & 17.99 & 10.38 & 122.80 & 1001.0 & 0.11840 & 0.27760 & 0.3001 & 0.14710 & ⋯ & 25.38 & 17.33 & 184.60 & 2019.0 & 0.1622 & 0.6656 & 0.7119 & 0.2654 & 0.4601 & 0.11890\\\\\n",
       "\t2 &   842517 & M & 20.57 & 17.77 & 132.90 & 1326.0 & 0.08474 & 0.07864 & 0.0869 & 0.07017 & ⋯ & 24.99 & 23.41 & 158.80 & 1956.0 & 0.1238 & 0.1866 & 0.2416 & 0.1860 & 0.2750 & 0.08902\\\\\n",
       "\t3 & 84300903 & M & 19.69 & 21.25 & 130.00 & 1203.0 & 0.10960 & 0.15990 & 0.1974 & 0.12790 & ⋯ & 23.57 & 25.53 & 152.50 & 1709.0 & 0.1444 & 0.4245 & 0.4504 & 0.2430 & 0.3613 & 0.08758\\\\\n",
       "\t4 & 84348301 & M & 11.42 & 20.38 &  77.58 &  386.1 & 0.14250 & 0.28390 & 0.2414 & 0.10520 & ⋯ & 14.91 & 26.50 &  98.87 &  567.7 & 0.2098 & 0.8663 & 0.6869 & 0.2575 & 0.6638 & 0.17300\\\\\n",
       "\t5 & 84358402 & M & 20.29 & 14.34 & 135.10 & 1297.0 & 0.10030 & 0.13280 & 0.1980 & 0.10430 & ⋯ & 22.54 & 16.67 & 152.20 & 1575.0 & 0.1374 & 0.2050 & 0.4000 & 0.1625 & 0.2364 & 0.07678\\\\\n",
       "\t6 &   843786 & M & 12.45 & 15.70 &  82.57 &  477.1 & 0.12780 & 0.17000 & 0.1578 & 0.08089 & ⋯ & 15.47 & 23.75 & 103.40 &  741.6 & 0.1791 & 0.5249 & 0.5355 & 0.1741 & 0.3985 & 0.12440\\\\\n",
       "\\end{tabular}\n"
      ],
      "text/markdown": [
       "\n",
       "A data.frame: 6 × 32\n",
       "\n",
       "| <!--/--> | id &lt;int&gt; | diagnosis &lt;chr&gt; | radius_mean &lt;dbl&gt; | texture_mean &lt;dbl&gt; | perimeter_mean &lt;dbl&gt; | area_mean &lt;dbl&gt; | smoothness_mean &lt;dbl&gt; | compactness_mean &lt;dbl&gt; | concavity_mean &lt;dbl&gt; | concave.points_mean &lt;dbl&gt; | ⋯ ⋯ | radius_worst &lt;dbl&gt; | texture_worst &lt;dbl&gt; | perimeter_worst &lt;dbl&gt; | area_worst &lt;dbl&gt; | smoothness_worst &lt;dbl&gt; | compactness_worst &lt;dbl&gt; | concavity_worst &lt;dbl&gt; | concave.points_worst &lt;dbl&gt; | symmetry_worst &lt;dbl&gt; | fractal_dimension_worst &lt;dbl&gt; |\n",
       "|---|---|---|---|---|---|---|---|---|---|---|---|---|---|---|---|---|---|---|---|---|---|\n",
       "| 1 |   842302 | M | 17.99 | 10.38 | 122.80 | 1001.0 | 0.11840 | 0.27760 | 0.3001 | 0.14710 | ⋯ | 25.38 | 17.33 | 184.60 | 2019.0 | 0.1622 | 0.6656 | 0.7119 | 0.2654 | 0.4601 | 0.11890 |\n",
       "| 2 |   842517 | M | 20.57 | 17.77 | 132.90 | 1326.0 | 0.08474 | 0.07864 | 0.0869 | 0.07017 | ⋯ | 24.99 | 23.41 | 158.80 | 1956.0 | 0.1238 | 0.1866 | 0.2416 | 0.1860 | 0.2750 | 0.08902 |\n",
       "| 3 | 84300903 | M | 19.69 | 21.25 | 130.00 | 1203.0 | 0.10960 | 0.15990 | 0.1974 | 0.12790 | ⋯ | 23.57 | 25.53 | 152.50 | 1709.0 | 0.1444 | 0.4245 | 0.4504 | 0.2430 | 0.3613 | 0.08758 |\n",
       "| 4 | 84348301 | M | 11.42 | 20.38 |  77.58 |  386.1 | 0.14250 | 0.28390 | 0.2414 | 0.10520 | ⋯ | 14.91 | 26.50 |  98.87 |  567.7 | 0.2098 | 0.8663 | 0.6869 | 0.2575 | 0.6638 | 0.17300 |\n",
       "| 5 | 84358402 | M | 20.29 | 14.34 | 135.10 | 1297.0 | 0.10030 | 0.13280 | 0.1980 | 0.10430 | ⋯ | 22.54 | 16.67 | 152.20 | 1575.0 | 0.1374 | 0.2050 | 0.4000 | 0.1625 | 0.2364 | 0.07678 |\n",
       "| 6 |   843786 | M | 12.45 | 15.70 |  82.57 |  477.1 | 0.12780 | 0.17000 | 0.1578 | 0.08089 | ⋯ | 15.47 | 23.75 | 103.40 |  741.6 | 0.1791 | 0.5249 | 0.5355 | 0.1741 | 0.3985 | 0.12440 |\n",
       "\n"
      ],
      "text/plain": [
       "  id       diagnosis radius_mean texture_mean perimeter_mean area_mean\n",
       "1   842302 M         17.99       10.38        122.80         1001.0   \n",
       "2   842517 M         20.57       17.77        132.90         1326.0   \n",
       "3 84300903 M         19.69       21.25        130.00         1203.0   \n",
       "4 84348301 M         11.42       20.38         77.58          386.1   \n",
       "5 84358402 M         20.29       14.34        135.10         1297.0   \n",
       "6   843786 M         12.45       15.70         82.57          477.1   \n",
       "  smoothness_mean compactness_mean concavity_mean concave.points_mean ⋯\n",
       "1 0.11840         0.27760          0.3001         0.14710             ⋯\n",
       "2 0.08474         0.07864          0.0869         0.07017             ⋯\n",
       "3 0.10960         0.15990          0.1974         0.12790             ⋯\n",
       "4 0.14250         0.28390          0.2414         0.10520             ⋯\n",
       "5 0.10030         0.13280          0.1980         0.10430             ⋯\n",
       "6 0.12780         0.17000          0.1578         0.08089             ⋯\n",
       "  radius_worst texture_worst perimeter_worst area_worst smoothness_worst\n",
       "1 25.38        17.33         184.60          2019.0     0.1622          \n",
       "2 24.99        23.41         158.80          1956.0     0.1238          \n",
       "3 23.57        25.53         152.50          1709.0     0.1444          \n",
       "4 14.91        26.50          98.87           567.7     0.2098          \n",
       "5 22.54        16.67         152.20          1575.0     0.1374          \n",
       "6 15.47        23.75         103.40           741.6     0.1791          \n",
       "  compactness_worst concavity_worst concave.points_worst symmetry_worst\n",
       "1 0.6656            0.7119          0.2654               0.4601        \n",
       "2 0.1866            0.2416          0.1860               0.2750        \n",
       "3 0.4245            0.4504          0.2430               0.3613        \n",
       "4 0.8663            0.6869          0.2575               0.6638        \n",
       "5 0.2050            0.4000          0.1625               0.2364        \n",
       "6 0.5249            0.5355          0.1741               0.3985        \n",
       "  fractal_dimension_worst\n",
       "1 0.11890                \n",
       "2 0.08902                \n",
       "3 0.08758                \n",
       "4 0.17300                \n",
       "5 0.07678                \n",
       "6 0.12440                "
      ]
     },
     "metadata": {},
     "output_type": "display_data"
    }
   ],
   "source": [
    "f <- read.csv(\"../datasets/wbc_csv.csv\")\n",
    "head(f)"
   ]
  },
  {
   "cell_type": "code",
   "execution_count": 3,
   "metadata": {},
   "outputs": [
    {
     "data": {
      "text/html": [
       "<div>\n",
       "<style scoped>\n",
       "    .dataframe tbody tr th:only-of-type {\n",
       "        vertical-align: middle;\n",
       "    }\n",
       "\n",
       "    .dataframe tbody tr th {\n",
       "        vertical-align: top;\n",
       "    }\n",
       "\n",
       "    .dataframe thead th {\n",
       "        text-align: right;\n",
       "    }\n",
       "</style>\n",
       "<table border=\"1\" class=\"dataframe\">\n",
       "  <thead>\n",
       "    <tr style=\"text-align: right;\">\n",
       "      <th></th>\n",
       "      <th>id</th>\n",
       "      <th>diagnosis</th>\n",
       "      <th>radius_mean</th>\n",
       "      <th>texture_mean</th>\n",
       "      <th>perimeter_mean</th>\n",
       "      <th>area_mean</th>\n",
       "      <th>smoothness_mean</th>\n",
       "      <th>compactness_mean</th>\n",
       "      <th>concavity_mean</th>\n",
       "      <th>concave points_mean</th>\n",
       "      <th>...</th>\n",
       "      <th>radius_worst</th>\n",
       "      <th>texture_worst</th>\n",
       "      <th>perimeter_worst</th>\n",
       "      <th>area_worst</th>\n",
       "      <th>smoothness_worst</th>\n",
       "      <th>compactness_worst</th>\n",
       "      <th>concavity_worst</th>\n",
       "      <th>concave points_worst</th>\n",
       "      <th>symmetry_worst</th>\n",
       "      <th>fractal_dimension_worst</th>\n",
       "    </tr>\n",
       "  </thead>\n",
       "  <tbody>\n",
       "    <tr>\n",
       "      <th>0</th>\n",
       "      <td>842302</td>\n",
       "      <td>M</td>\n",
       "      <td>17.99</td>\n",
       "      <td>10.38</td>\n",
       "      <td>122.80</td>\n",
       "      <td>1001.0</td>\n",
       "      <td>0.11840</td>\n",
       "      <td>0.27760</td>\n",
       "      <td>0.3001</td>\n",
       "      <td>0.14710</td>\n",
       "      <td>...</td>\n",
       "      <td>25.38</td>\n",
       "      <td>17.33</td>\n",
       "      <td>184.60</td>\n",
       "      <td>2019.0</td>\n",
       "      <td>0.1622</td>\n",
       "      <td>0.6656</td>\n",
       "      <td>0.7119</td>\n",
       "      <td>0.2654</td>\n",
       "      <td>0.4601</td>\n",
       "      <td>0.11890</td>\n",
       "    </tr>\n",
       "    <tr>\n",
       "      <th>1</th>\n",
       "      <td>842517</td>\n",
       "      <td>M</td>\n",
       "      <td>20.57</td>\n",
       "      <td>17.77</td>\n",
       "      <td>132.90</td>\n",
       "      <td>1326.0</td>\n",
       "      <td>0.08474</td>\n",
       "      <td>0.07864</td>\n",
       "      <td>0.0869</td>\n",
       "      <td>0.07017</td>\n",
       "      <td>...</td>\n",
       "      <td>24.99</td>\n",
       "      <td>23.41</td>\n",
       "      <td>158.80</td>\n",
       "      <td>1956.0</td>\n",
       "      <td>0.1238</td>\n",
       "      <td>0.1866</td>\n",
       "      <td>0.2416</td>\n",
       "      <td>0.1860</td>\n",
       "      <td>0.2750</td>\n",
       "      <td>0.08902</td>\n",
       "    </tr>\n",
       "    <tr>\n",
       "      <th>2</th>\n",
       "      <td>84300903</td>\n",
       "      <td>M</td>\n",
       "      <td>19.69</td>\n",
       "      <td>21.25</td>\n",
       "      <td>130.00</td>\n",
       "      <td>1203.0</td>\n",
       "      <td>0.10960</td>\n",
       "      <td>0.15990</td>\n",
       "      <td>0.1974</td>\n",
       "      <td>0.12790</td>\n",
       "      <td>...</td>\n",
       "      <td>23.57</td>\n",
       "      <td>25.53</td>\n",
       "      <td>152.50</td>\n",
       "      <td>1709.0</td>\n",
       "      <td>0.1444</td>\n",
       "      <td>0.4245</td>\n",
       "      <td>0.4504</td>\n",
       "      <td>0.2430</td>\n",
       "      <td>0.3613</td>\n",
       "      <td>0.08758</td>\n",
       "    </tr>\n",
       "    <tr>\n",
       "      <th>3</th>\n",
       "      <td>84348301</td>\n",
       "      <td>M</td>\n",
       "      <td>11.42</td>\n",
       "      <td>20.38</td>\n",
       "      <td>77.58</td>\n",
       "      <td>386.1</td>\n",
       "      <td>0.14250</td>\n",
       "      <td>0.28390</td>\n",
       "      <td>0.2414</td>\n",
       "      <td>0.10520</td>\n",
       "      <td>...</td>\n",
       "      <td>14.91</td>\n",
       "      <td>26.50</td>\n",
       "      <td>98.87</td>\n",
       "      <td>567.7</td>\n",
       "      <td>0.2098</td>\n",
       "      <td>0.8663</td>\n",
       "      <td>0.6869</td>\n",
       "      <td>0.2575</td>\n",
       "      <td>0.6638</td>\n",
       "      <td>0.17300</td>\n",
       "    </tr>\n",
       "    <tr>\n",
       "      <th>4</th>\n",
       "      <td>84358402</td>\n",
       "      <td>M</td>\n",
       "      <td>20.29</td>\n",
       "      <td>14.34</td>\n",
       "      <td>135.10</td>\n",
       "      <td>1297.0</td>\n",
       "      <td>0.10030</td>\n",
       "      <td>0.13280</td>\n",
       "      <td>0.1980</td>\n",
       "      <td>0.10430</td>\n",
       "      <td>...</td>\n",
       "      <td>22.54</td>\n",
       "      <td>16.67</td>\n",
       "      <td>152.20</td>\n",
       "      <td>1575.0</td>\n",
       "      <td>0.1374</td>\n",
       "      <td>0.2050</td>\n",
       "      <td>0.4000</td>\n",
       "      <td>0.1625</td>\n",
       "      <td>0.2364</td>\n",
       "      <td>0.07678</td>\n",
       "    </tr>\n",
       "  </tbody>\n",
       "</table>\n",
       "<p>5 rows × 32 columns</p>\n",
       "</div>"
      ],
      "text/plain": [
       "         id diagnosis  radius_mean  texture_mean  perimeter_mean  area_mean  \\\n",
       "0    842302         M        17.99         10.38          122.80     1001.0   \n",
       "1    842517         M        20.57         17.77          132.90     1326.0   \n",
       "2  84300903         M        19.69         21.25          130.00     1203.0   \n",
       "3  84348301         M        11.42         20.38           77.58      386.1   \n",
       "4  84358402         M        20.29         14.34          135.10     1297.0   \n",
       "\n",
       "   smoothness_mean  compactness_mean  concavity_mean  concave points_mean  \\\n",
       "0          0.11840           0.27760          0.3001              0.14710   \n",
       "1          0.08474           0.07864          0.0869              0.07017   \n",
       "2          0.10960           0.15990          0.1974              0.12790   \n",
       "3          0.14250           0.28390          0.2414              0.10520   \n",
       "4          0.10030           0.13280          0.1980              0.10430   \n",
       "\n",
       "   ...  radius_worst  texture_worst  perimeter_worst  area_worst  \\\n",
       "0  ...         25.38          17.33           184.60      2019.0   \n",
       "1  ...         24.99          23.41           158.80      1956.0   \n",
       "2  ...         23.57          25.53           152.50      1709.0   \n",
       "3  ...         14.91          26.50            98.87       567.7   \n",
       "4  ...         22.54          16.67           152.20      1575.0   \n",
       "\n",
       "   smoothness_worst  compactness_worst  concavity_worst  concave points_worst  \\\n",
       "0            0.1622             0.6656           0.7119                0.2654   \n",
       "1            0.1238             0.1866           0.2416                0.1860   \n",
       "2            0.1444             0.4245           0.4504                0.2430   \n",
       "3            0.2098             0.8663           0.6869                0.2575   \n",
       "4            0.1374             0.2050           0.4000                0.1625   \n",
       "\n",
       "   symmetry_worst  fractal_dimension_worst  \n",
       "0          0.4601                  0.11890  \n",
       "1          0.2750                  0.08902  \n",
       "2          0.3613                  0.08758  \n",
       "3          0.6638                  0.17300  \n",
       "4          0.2364                  0.07678  \n",
       "\n",
       "[5 rows x 32 columns]"
      ]
     },
     "execution_count": 3,
     "metadata": {},
     "output_type": "execute_result"
    }
   ],
   "source": [
    "df=pd.read_csv(\"../datasets/wbc_csv.csv\")\n",
    "df.head()"
   ]
  },
  {
   "cell_type": "code",
   "execution_count": null,
   "metadata": {},
   "outputs": [],
   "source": [
    "f$diagnosis <- as.factor(f$diagnosis)"
   ]
  },
  {
   "cell_type": "code",
   "execution_count": 4,
   "metadata": {},
   "outputs": [],
   "source": [
    "# Assuming f is a pandas DataFrame\n",
    "df['diagnosis'] = df['diagnosis'].astype('category')"
   ]
  },
  {
   "cell_type": "code",
   "execution_count": null,
   "metadata": {},
   "outputs": [],
   "source": [
    "# Shuffle Data\n",
    "set.seed(123)\n",
    "f <- f[sample(nrow(f)), ]"
   ]
  },
  {
   "cell_type": "code",
   "execution_count": 5,
   "metadata": {},
   "outputs": [],
   "source": [
    "# Shuffle DataFrame `f` with a fixed random seed\n",
    "df = df.sample(frac=1, random_state=123).reset_index(drop=True)"
   ]
  },
  {
   "cell_type": "code",
   "execution_count": null,
   "metadata": {},
   "outputs": [],
   "source": [
    "n <- function(b)\n",
    "    {\n",
    "        (b - min(b)) / (max(b) - min(b))\n",
    "    }"
   ]
  },
  {
   "cell_type": "code",
   "execution_count": 6,
   "metadata": {},
   "outputs": [],
   "source": [
    "def n(b):\n",
    "    return (b - np.min(b)) / (np.max(b) - np.min(b))"
   ]
  },
  {
   "cell_type": "code",
   "execution_count": null,
   "metadata": {},
   "outputs": [],
   "source": [
    "# apply func on 3 to 32 columns\n",
    "f1 <- f[, 3 : 32]\n",
    "fnor <- as.data.frame(lapply(f1, n))"
   ]
  },
  {
   "cell_type": "code",
   "execution_count": 7,
   "metadata": {},
   "outputs": [],
   "source": [
    "# Select columns 3 to 32 (Python uses 0-based indexing)\n",
    "df1 = df.iloc[:, 2:32]  # 2:32 selects columns 3 to 32\n",
    "\n",
    "# Apply normalization function to each column\n",
    "dfnor = df1.apply(n)  # Assuming n() is already defined"
   ]
  },
  {
   "cell_type": "code",
   "execution_count": null,
   "metadata": {},
   "outputs": [
    {
     "data": {
      "text/html": [
       "<table class=\"dataframe\">\n",
       "<caption>A data.frame: 6 × 30</caption>\n",
       "<thead>\n",
       "\t<tr><th></th><th scope=col>radius_mean</th><th scope=col>texture_mean</th><th scope=col>perimeter_mean</th><th scope=col>area_mean</th><th scope=col>smoothness_mean</th><th scope=col>compactness_mean</th><th scope=col>concavity_mean</th><th scope=col>concave.points_mean</th><th scope=col>symmetry_mean</th><th scope=col>fractal_dimension_mean</th><th scope=col>⋯</th><th scope=col>radius_worst</th><th scope=col>texture_worst</th><th scope=col>perimeter_worst</th><th scope=col>area_worst</th><th scope=col>smoothness_worst</th><th scope=col>compactness_worst</th><th scope=col>concavity_worst</th><th scope=col>concave.points_worst</th><th scope=col>symmetry_worst</th><th scope=col>fractal_dimension_worst</th></tr>\n",
       "\t<tr><th></th><th scope=col>&lt;dbl&gt;</th><th scope=col>&lt;dbl&gt;</th><th scope=col>&lt;dbl&gt;</th><th scope=col>&lt;dbl&gt;</th><th scope=col>&lt;dbl&gt;</th><th scope=col>&lt;dbl&gt;</th><th scope=col>&lt;dbl&gt;</th><th scope=col>&lt;dbl&gt;</th><th scope=col>&lt;dbl&gt;</th><th scope=col>&lt;dbl&gt;</th><th scope=col>⋯</th><th scope=col>&lt;dbl&gt;</th><th scope=col>&lt;dbl&gt;</th><th scope=col>&lt;dbl&gt;</th><th scope=col>&lt;dbl&gt;</th><th scope=col>&lt;dbl&gt;</th><th scope=col>&lt;dbl&gt;</th><th scope=col>&lt;dbl&gt;</th><th scope=col>&lt;dbl&gt;</th><th scope=col>&lt;dbl&gt;</th><th scope=col>&lt;dbl&gt;</th></tr>\n",
       "</thead>\n",
       "<tbody>\n",
       "\t<tr><th scope=row>1</th><td>0.38567845</td><td>0.6797430</td><td>0.3656969</td><td>0.24432662</td><td>0.27597725</td><td>0.0818048</td><td>0.109793814</td><td>0.136133201</td><td>0.4000000</td><td>0.06276327</td><td>⋯</td><td>0.3319104</td><td>0.6633795</td><td>0.29727576</td><td>0.18339560</td><td>0.28811992</td><td>0.069243531</td><td>0.123562300</td><td>0.22594502</td><td>0.3287995</td><td>0.04335563</td></tr>\n",
       "\t<tr><th scope=row>2</th><td>0.35112878</td><td>0.5843761</td><td>0.3348766</td><td>0.21319194</td><td>0.15636003</td><td>0.1007607</td><td>0.081443299</td><td>0.086332008</td><td>0.3267677</td><td>0.09203875</td><td>⋯</td><td>0.2657417</td><td>0.5319829</td><td>0.24896658</td><td>0.13502753</td><td>0.20161131</td><td>0.115173036</td><td>0.117571885</td><td>0.19116838</td><td>0.1537552</td><td>0.06296734</td></tr>\n",
       "\t<tr><th scope=row>3</th><td>0.28534242</td><td>0.4230639</td><td>0.2641144</td><td>0.16241782</td><td>0.08919383</td><td>0.0000000</td><td>0.003737113</td><td>0.009204771</td><td>0.1691919</td><td>0.05012637</td><td>⋯</td><td>0.2159374</td><td>0.4530917</td><td>0.18810698</td><td>0.10410932</td><td>0.06656541</td><td>0.006820541</td><td>0.006371406</td><td>0.03181787</td><td>0.1438991</td><td>0.02223534</td></tr>\n",
       "\t<tr><th scope=row>4</th><td>0.07525202</td><td>0.1146432</td><td>0.0742174</td><td>0.03300106</td><td>0.46014264</td><td>0.1746519</td><td>0.060098407</td><td>0.075049702</td><td>0.3121212</td><td>0.44860994</td><td>⋯</td><td>0.0548915</td><td>0.1713753</td><td>0.06419642</td><td>0.02221785</td><td>0.61368289</td><td>0.190363924</td><td>0.140095847</td><td>0.29250859</td><td>0.2795190</td><td>0.32703660</td></tr>\n",
       "\t<tr><th scope=row>5</th><td>0.37289981</td><td>0.4565438</td><td>0.3911962</td><td>0.22392365</td><td>0.46736481</td><td>0.5478805</td><td>0.397610122</td><td>0.441252485</td><td>0.3419192</td><td>0.35299073</td><td>⋯</td><td>0.2899324</td><td>0.4200426</td><td>0.33960855</td><td>0.14734074</td><td>0.39906227</td><td>0.424474391</td><td>0.366533546</td><td>0.59347079</td><td>0.2828701</td><td>0.20969435</td></tr>\n",
       "\t<tr><th scope=row>6</th><td>0.37337309</td><td>0.2353737</td><td>0.3790339</td><td>0.22863203</td><td>0.57389185</td><td>0.4463530</td><td>0.395970009</td><td>0.443489066</td><td>0.5540404</td><td>0.37320977</td><td>⋯</td><td>0.3870509</td><td>0.4091151</td><td>0.38194133</td><td>0.22360401</td><td>0.77019085</td><td>0.408174947</td><td>0.375718850</td><td>0.69656357</td><td>0.3981865</td><td>0.33753116</td></tr>\n",
       "</tbody>\n",
       "</table>\n"
      ],
      "text/latex": [
       "A data.frame: 6 × 30\n",
       "\\begin{tabular}{r|lllllllllllllllllllll}\n",
       "  & radius\\_mean & texture\\_mean & perimeter\\_mean & area\\_mean & smoothness\\_mean & compactness\\_mean & concavity\\_mean & concave.points\\_mean & symmetry\\_mean & fractal\\_dimension\\_mean & ⋯ & radius\\_worst & texture\\_worst & perimeter\\_worst & area\\_worst & smoothness\\_worst & compactness\\_worst & concavity\\_worst & concave.points\\_worst & symmetry\\_worst & fractal\\_dimension\\_worst\\\\\n",
       "  & <dbl> & <dbl> & <dbl> & <dbl> & <dbl> & <dbl> & <dbl> & <dbl> & <dbl> & <dbl> & ⋯ & <dbl> & <dbl> & <dbl> & <dbl> & <dbl> & <dbl> & <dbl> & <dbl> & <dbl> & <dbl>\\\\\n",
       "\\hline\n",
       "\t1 & 0.38567845 & 0.6797430 & 0.3656969 & 0.24432662 & 0.27597725 & 0.0818048 & 0.109793814 & 0.136133201 & 0.4000000 & 0.06276327 & ⋯ & 0.3319104 & 0.6633795 & 0.29727576 & 0.18339560 & 0.28811992 & 0.069243531 & 0.123562300 & 0.22594502 & 0.3287995 & 0.04335563\\\\\n",
       "\t2 & 0.35112878 & 0.5843761 & 0.3348766 & 0.21319194 & 0.15636003 & 0.1007607 & 0.081443299 & 0.086332008 & 0.3267677 & 0.09203875 & ⋯ & 0.2657417 & 0.5319829 & 0.24896658 & 0.13502753 & 0.20161131 & 0.115173036 & 0.117571885 & 0.19116838 & 0.1537552 & 0.06296734\\\\\n",
       "\t3 & 0.28534242 & 0.4230639 & 0.2641144 & 0.16241782 & 0.08919383 & 0.0000000 & 0.003737113 & 0.009204771 & 0.1691919 & 0.05012637 & ⋯ & 0.2159374 & 0.4530917 & 0.18810698 & 0.10410932 & 0.06656541 & 0.006820541 & 0.006371406 & 0.03181787 & 0.1438991 & 0.02223534\\\\\n",
       "\t4 & 0.07525202 & 0.1146432 & 0.0742174 & 0.03300106 & 0.46014264 & 0.1746519 & 0.060098407 & 0.075049702 & 0.3121212 & 0.44860994 & ⋯ & 0.0548915 & 0.1713753 & 0.06419642 & 0.02221785 & 0.61368289 & 0.190363924 & 0.140095847 & 0.29250859 & 0.2795190 & 0.32703660\\\\\n",
       "\t5 & 0.37289981 & 0.4565438 & 0.3911962 & 0.22392365 & 0.46736481 & 0.5478805 & 0.397610122 & 0.441252485 & 0.3419192 & 0.35299073 & ⋯ & 0.2899324 & 0.4200426 & 0.33960855 & 0.14734074 & 0.39906227 & 0.424474391 & 0.366533546 & 0.59347079 & 0.2828701 & 0.20969435\\\\\n",
       "\t6 & 0.37337309 & 0.2353737 & 0.3790339 & 0.22863203 & 0.57389185 & 0.4463530 & 0.395970009 & 0.443489066 & 0.5540404 & 0.37320977 & ⋯ & 0.3870509 & 0.4091151 & 0.38194133 & 0.22360401 & 0.77019085 & 0.408174947 & 0.375718850 & 0.69656357 & 0.3981865 & 0.33753116\\\\\n",
       "\\end{tabular}\n"
      ],
      "text/markdown": [
       "\n",
       "A data.frame: 6 × 30\n",
       "\n",
       "| <!--/--> | radius_mean &lt;dbl&gt; | texture_mean &lt;dbl&gt; | perimeter_mean &lt;dbl&gt; | area_mean &lt;dbl&gt; | smoothness_mean &lt;dbl&gt; | compactness_mean &lt;dbl&gt; | concavity_mean &lt;dbl&gt; | concave.points_mean &lt;dbl&gt; | symmetry_mean &lt;dbl&gt; | fractal_dimension_mean &lt;dbl&gt; | ⋯ ⋯ | radius_worst &lt;dbl&gt; | texture_worst &lt;dbl&gt; | perimeter_worst &lt;dbl&gt; | area_worst &lt;dbl&gt; | smoothness_worst &lt;dbl&gt; | compactness_worst &lt;dbl&gt; | concavity_worst &lt;dbl&gt; | concave.points_worst &lt;dbl&gt; | symmetry_worst &lt;dbl&gt; | fractal_dimension_worst &lt;dbl&gt; |\n",
       "|---|---|---|---|---|---|---|---|---|---|---|---|---|---|---|---|---|---|---|---|---|---|\n",
       "| 1 | 0.38567845 | 0.6797430 | 0.3656969 | 0.24432662 | 0.27597725 | 0.0818048 | 0.109793814 | 0.136133201 | 0.4000000 | 0.06276327 | ⋯ | 0.3319104 | 0.6633795 | 0.29727576 | 0.18339560 | 0.28811992 | 0.069243531 | 0.123562300 | 0.22594502 | 0.3287995 | 0.04335563 |\n",
       "| 2 | 0.35112878 | 0.5843761 | 0.3348766 | 0.21319194 | 0.15636003 | 0.1007607 | 0.081443299 | 0.086332008 | 0.3267677 | 0.09203875 | ⋯ | 0.2657417 | 0.5319829 | 0.24896658 | 0.13502753 | 0.20161131 | 0.115173036 | 0.117571885 | 0.19116838 | 0.1537552 | 0.06296734 |\n",
       "| 3 | 0.28534242 | 0.4230639 | 0.2641144 | 0.16241782 | 0.08919383 | 0.0000000 | 0.003737113 | 0.009204771 | 0.1691919 | 0.05012637 | ⋯ | 0.2159374 | 0.4530917 | 0.18810698 | 0.10410932 | 0.06656541 | 0.006820541 | 0.006371406 | 0.03181787 | 0.1438991 | 0.02223534 |\n",
       "| 4 | 0.07525202 | 0.1146432 | 0.0742174 | 0.03300106 | 0.46014264 | 0.1746519 | 0.060098407 | 0.075049702 | 0.3121212 | 0.44860994 | ⋯ | 0.0548915 | 0.1713753 | 0.06419642 | 0.02221785 | 0.61368289 | 0.190363924 | 0.140095847 | 0.29250859 | 0.2795190 | 0.32703660 |\n",
       "| 5 | 0.37289981 | 0.4565438 | 0.3911962 | 0.22392365 | 0.46736481 | 0.5478805 | 0.397610122 | 0.441252485 | 0.3419192 | 0.35299073 | ⋯ | 0.2899324 | 0.4200426 | 0.33960855 | 0.14734074 | 0.39906227 | 0.424474391 | 0.366533546 | 0.59347079 | 0.2828701 | 0.20969435 |\n",
       "| 6 | 0.37337309 | 0.2353737 | 0.3790339 | 0.22863203 | 0.57389185 | 0.4463530 | 0.395970009 | 0.443489066 | 0.5540404 | 0.37320977 | ⋯ | 0.3870509 | 0.4091151 | 0.38194133 | 0.22360401 | 0.77019085 | 0.408174947 | 0.375718850 | 0.69656357 | 0.3981865 | 0.33753116 |\n",
       "\n"
      ],
      "text/plain": [
       "  radius_mean texture_mean perimeter_mean area_mean  smoothness_mean\n",
       "1 0.38567845  0.6797430    0.3656969      0.24432662 0.27597725     \n",
       "2 0.35112878  0.5843761    0.3348766      0.21319194 0.15636003     \n",
       "3 0.28534242  0.4230639    0.2641144      0.16241782 0.08919383     \n",
       "4 0.07525202  0.1146432    0.0742174      0.03300106 0.46014264     \n",
       "5 0.37289981  0.4565438    0.3911962      0.22392365 0.46736481     \n",
       "6 0.37337309  0.2353737    0.3790339      0.22863203 0.57389185     \n",
       "  compactness_mean concavity_mean concave.points_mean symmetry_mean\n",
       "1 0.0818048        0.109793814    0.136133201         0.4000000    \n",
       "2 0.1007607        0.081443299    0.086332008         0.3267677    \n",
       "3 0.0000000        0.003737113    0.009204771         0.1691919    \n",
       "4 0.1746519        0.060098407    0.075049702         0.3121212    \n",
       "5 0.5478805        0.397610122    0.441252485         0.3419192    \n",
       "6 0.4463530        0.395970009    0.443489066         0.5540404    \n",
       "  fractal_dimension_mean ⋯ radius_worst texture_worst perimeter_worst\n",
       "1 0.06276327             ⋯ 0.3319104    0.6633795     0.29727576     \n",
       "2 0.09203875             ⋯ 0.2657417    0.5319829     0.24896658     \n",
       "3 0.05012637             ⋯ 0.2159374    0.4530917     0.18810698     \n",
       "4 0.44860994             ⋯ 0.0548915    0.1713753     0.06419642     \n",
       "5 0.35299073             ⋯ 0.2899324    0.4200426     0.33960855     \n",
       "6 0.37320977             ⋯ 0.3870509    0.4091151     0.38194133     \n",
       "  area_worst smoothness_worst compactness_worst concavity_worst\n",
       "1 0.18339560 0.28811992       0.069243531       0.123562300    \n",
       "2 0.13502753 0.20161131       0.115173036       0.117571885    \n",
       "3 0.10410932 0.06656541       0.006820541       0.006371406    \n",
       "4 0.02221785 0.61368289       0.190363924       0.140095847    \n",
       "5 0.14734074 0.39906227       0.424474391       0.366533546    \n",
       "6 0.22360401 0.77019085       0.408174947       0.375718850    \n",
       "  concave.points_worst symmetry_worst fractal_dimension_worst\n",
       "1 0.22594502           0.3287995      0.04335563             \n",
       "2 0.19116838           0.1537552      0.06296734             \n",
       "3 0.03181787           0.1438991      0.02223534             \n",
       "4 0.29250859           0.2795190      0.32703660             \n",
       "5 0.59347079           0.2828701      0.20969435             \n",
       "6 0.69656357           0.3981865      0.33753116             "
      ]
     },
     "metadata": {},
     "output_type": "display_data"
    }
   ],
   "source": [
    "head(fnor)"
   ]
  },
  {
   "cell_type": "code",
   "execution_count": 9,
   "metadata": {},
   "outputs": [
    {
     "data": {
      "text/html": [
       "<div>\n",
       "<style scoped>\n",
       "    .dataframe tbody tr th:only-of-type {\n",
       "        vertical-align: middle;\n",
       "    }\n",
       "\n",
       "    .dataframe tbody tr th {\n",
       "        vertical-align: top;\n",
       "    }\n",
       "\n",
       "    .dataframe thead th {\n",
       "        text-align: right;\n",
       "    }\n",
       "</style>\n",
       "<table border=\"1\" class=\"dataframe\">\n",
       "  <thead>\n",
       "    <tr style=\"text-align: right;\">\n",
       "      <th></th>\n",
       "      <th>radius_mean</th>\n",
       "      <th>texture_mean</th>\n",
       "      <th>perimeter_mean</th>\n",
       "      <th>area_mean</th>\n",
       "      <th>smoothness_mean</th>\n",
       "      <th>compactness_mean</th>\n",
       "      <th>concavity_mean</th>\n",
       "      <th>concave points_mean</th>\n",
       "      <th>symmetry_mean</th>\n",
       "      <th>fractal_dimension_mean</th>\n",
       "      <th>...</th>\n",
       "      <th>radius_worst</th>\n",
       "      <th>texture_worst</th>\n",
       "      <th>perimeter_worst</th>\n",
       "      <th>area_worst</th>\n",
       "      <th>smoothness_worst</th>\n",
       "      <th>compactness_worst</th>\n",
       "      <th>concavity_worst</th>\n",
       "      <th>concave points_worst</th>\n",
       "      <th>symmetry_worst</th>\n",
       "      <th>fractal_dimension_worst</th>\n",
       "    </tr>\n",
       "  </thead>\n",
       "  <tbody>\n",
       "    <tr>\n",
       "      <th>0</th>\n",
       "      <td>0.202045</td>\n",
       "      <td>0.171458</td>\n",
       "      <td>0.190657</td>\n",
       "      <td>0.104560</td>\n",
       "      <td>0.274713</td>\n",
       "      <td>0.077296</td>\n",
       "      <td>0.002281</td>\n",
       "      <td>0.014617</td>\n",
       "      <td>0.360101</td>\n",
       "      <td>0.228517</td>\n",
       "      <td>...</td>\n",
       "      <td>0.171825</td>\n",
       "      <td>0.267591</td>\n",
       "      <td>0.157727</td>\n",
       "      <td>0.075575</td>\n",
       "      <td>0.300007</td>\n",
       "      <td>0.068545</td>\n",
       "      <td>0.004407</td>\n",
       "      <td>0.057285</td>\n",
       "      <td>0.246403</td>\n",
       "      <td>0.125541</td>\n",
       "    </tr>\n",
       "    <tr>\n",
       "      <th>1</th>\n",
       "      <td>0.130673</td>\n",
       "      <td>0.201556</td>\n",
       "      <td>0.122383</td>\n",
       "      <td>0.062100</td>\n",
       "      <td>0.340706</td>\n",
       "      <td>0.084381</td>\n",
       "      <td>0.025843</td>\n",
       "      <td>0.069930</td>\n",
       "      <td>0.515657</td>\n",
       "      <td>0.277169</td>\n",
       "      <td>...</td>\n",
       "      <td>0.100320</td>\n",
       "      <td>0.236141</td>\n",
       "      <td>0.088052</td>\n",
       "      <td>0.041781</td>\n",
       "      <td>0.498778</td>\n",
       "      <td>0.064431</td>\n",
       "      <td>0.032292</td>\n",
       "      <td>0.177285</td>\n",
       "      <td>0.251528</td>\n",
       "      <td>0.175193</td>\n",
       "    </tr>\n",
       "    <tr>\n",
       "      <th>2</th>\n",
       "      <td>0.499740</td>\n",
       "      <td>0.324992</td>\n",
       "      <td>0.492779</td>\n",
       "      <td>0.342778</td>\n",
       "      <td>0.334477</td>\n",
       "      <td>0.308018</td>\n",
       "      <td>0.242737</td>\n",
       "      <td>0.372167</td>\n",
       "      <td>0.225253</td>\n",
       "      <td>0.104254</td>\n",
       "      <td>...</td>\n",
       "      <td>0.444326</td>\n",
       "      <td>0.368337</td>\n",
       "      <td>0.443697</td>\n",
       "      <td>0.258995</td>\n",
       "      <td>0.441986</td>\n",
       "      <td>0.305333</td>\n",
       "      <td>0.280192</td>\n",
       "      <td>0.666323</td>\n",
       "      <td>0.268677</td>\n",
       "      <td>0.154991</td>\n",
       "    </tr>\n",
       "    <tr>\n",
       "      <th>3</th>\n",
       "      <td>0.285342</td>\n",
       "      <td>0.423064</td>\n",
       "      <td>0.264114</td>\n",
       "      <td>0.162418</td>\n",
       "      <td>0.089194</td>\n",
       "      <td>0.000000</td>\n",
       "      <td>0.003737</td>\n",
       "      <td>0.009205</td>\n",
       "      <td>0.169192</td>\n",
       "      <td>0.050126</td>\n",
       "      <td>...</td>\n",
       "      <td>0.215937</td>\n",
       "      <td>0.453092</td>\n",
       "      <td>0.188107</td>\n",
       "      <td>0.104109</td>\n",
       "      <td>0.066565</td>\n",
       "      <td>0.006821</td>\n",
       "      <td>0.006371</td>\n",
       "      <td>0.031818</td>\n",
       "      <td>0.143899</td>\n",
       "      <td>0.022235</td>\n",
       "    </tr>\n",
       "    <tr>\n",
       "      <th>4</th>\n",
       "      <td>0.543282</td>\n",
       "      <td>0.297937</td>\n",
       "      <td>0.534241</td>\n",
       "      <td>0.395122</td>\n",
       "      <td>0.416268</td>\n",
       "      <td>0.263542</td>\n",
       "      <td>0.312793</td>\n",
       "      <td>0.437127</td>\n",
       "      <td>0.541414</td>\n",
       "      <td>0.216091</td>\n",
       "      <td>...</td>\n",
       "      <td>0.533618</td>\n",
       "      <td>0.417377</td>\n",
       "      <td>0.506948</td>\n",
       "      <td>0.348457</td>\n",
       "      <td>0.453213</td>\n",
       "      <td>0.176199</td>\n",
       "      <td>0.252157</td>\n",
       "      <td>0.564261</td>\n",
       "      <td>0.419870</td>\n",
       "      <td>0.201692</td>\n",
       "    </tr>\n",
       "    <tr>\n",
       "      <th>5</th>\n",
       "      <td>0.381419</td>\n",
       "      <td>0.237741</td>\n",
       "      <td>0.379656</td>\n",
       "      <td>0.231559</td>\n",
       "      <td>0.417080</td>\n",
       "      <td>0.358935</td>\n",
       "      <td>0.180904</td>\n",
       "      <td>0.305268</td>\n",
       "      <td>0.307071</td>\n",
       "      <td>0.394482</td>\n",
       "      <td>...</td>\n",
       "      <td>0.314123</td>\n",
       "      <td>0.224147</td>\n",
       "      <td>0.295284</td>\n",
       "      <td>0.165086</td>\n",
       "      <td>0.279535</td>\n",
       "      <td>0.184640</td>\n",
       "      <td>0.148243</td>\n",
       "      <td>0.349828</td>\n",
       "      <td>0.120639</td>\n",
       "      <td>0.199725</td>\n",
       "    </tr>\n",
       "  </tbody>\n",
       "</table>\n",
       "<p>6 rows × 30 columns</p>\n",
       "</div>"
      ],
      "text/plain": [
       "   radius_mean  texture_mean  perimeter_mean  area_mean  smoothness_mean  \\\n",
       "0     0.202045      0.171458        0.190657   0.104560         0.274713   \n",
       "1     0.130673      0.201556        0.122383   0.062100         0.340706   \n",
       "2     0.499740      0.324992        0.492779   0.342778         0.334477   \n",
       "3     0.285342      0.423064        0.264114   0.162418         0.089194   \n",
       "4     0.543282      0.297937        0.534241   0.395122         0.416268   \n",
       "5     0.381419      0.237741        0.379656   0.231559         0.417080   \n",
       "\n",
       "   compactness_mean  concavity_mean  concave points_mean  symmetry_mean  \\\n",
       "0          0.077296        0.002281             0.014617       0.360101   \n",
       "1          0.084381        0.025843             0.069930       0.515657   \n",
       "2          0.308018        0.242737             0.372167       0.225253   \n",
       "3          0.000000        0.003737             0.009205       0.169192   \n",
       "4          0.263542        0.312793             0.437127       0.541414   \n",
       "5          0.358935        0.180904             0.305268       0.307071   \n",
       "\n",
       "   fractal_dimension_mean  ...  radius_worst  texture_worst  perimeter_worst  \\\n",
       "0                0.228517  ...      0.171825       0.267591         0.157727   \n",
       "1                0.277169  ...      0.100320       0.236141         0.088052   \n",
       "2                0.104254  ...      0.444326       0.368337         0.443697   \n",
       "3                0.050126  ...      0.215937       0.453092         0.188107   \n",
       "4                0.216091  ...      0.533618       0.417377         0.506948   \n",
       "5                0.394482  ...      0.314123       0.224147         0.295284   \n",
       "\n",
       "   area_worst  smoothness_worst  compactness_worst  concavity_worst  \\\n",
       "0    0.075575          0.300007           0.068545         0.004407   \n",
       "1    0.041781          0.498778           0.064431         0.032292   \n",
       "2    0.258995          0.441986           0.305333         0.280192   \n",
       "3    0.104109          0.066565           0.006821         0.006371   \n",
       "4    0.348457          0.453213           0.176199         0.252157   \n",
       "5    0.165086          0.279535           0.184640         0.148243   \n",
       "\n",
       "   concave points_worst  symmetry_worst  fractal_dimension_worst  \n",
       "0              0.057285        0.246403                 0.125541  \n",
       "1              0.177285        0.251528                 0.175193  \n",
       "2              0.666323        0.268677                 0.154991  \n",
       "3              0.031818        0.143899                 0.022235  \n",
       "4              0.564261        0.419870                 0.201692  \n",
       "5              0.349828        0.120639                 0.199725  \n",
       "\n",
       "[6 rows x 30 columns]"
      ]
     },
     "execution_count": 9,
     "metadata": {},
     "output_type": "execute_result"
    }
   ],
   "source": [
    "dfnor.head(6)"
   ]
  },
  {
   "cell_type": "code",
   "execution_count": null,
   "metadata": {},
   "outputs": [],
   "source": [
    "#data partitioning\n",
    "\n",
    "train <- fnor[1:469, ]\n",
    "test <- fnor[470: 569, ]\n",
    "train_label <- f[1: 469, 2]\n",
    "test_label <- f[470: 569, 2]"
   ]
  },
  {
   "cell_type": "code",
   "execution_count": 10,
   "metadata": {},
   "outputs": [],
   "source": [
    "# Split normalized features\n",
    "train = dfnor.iloc[:469, :]\n",
    "test = dfnor.iloc[469:569, :]\n",
    "\n",
    "# Split labels from original data (column 2, which is index 1 in Python)\n",
    "train_label = df.iloc[:469, 1]\n",
    "test_label = df.iloc[469:569, 1]\n"
   ]
  },
  {
   "cell_type": "code",
   "execution_count": null,
   "metadata": {},
   "outputs": [],
   "source": [
    "# train\n",
    "p <- knn(train, test, train_label, k=3)"
   ]
  },
  {
   "cell_type": "code",
   "execution_count": 11,
   "metadata": {},
   "outputs": [],
   "source": [
    "# Initialize the k-NN classifier with k=3\n",
    "knn = KNeighborsClassifier(n_neighbors=3)\n",
    "\n",
    "# Fit on training data\n",
    "knn.fit(train, train_label)\n",
    "\n",
    "# Predict on test data\n",
    "p = knn.predict(test)\n"
   ]
  },
  {
   "cell_type": "code",
   "execution_count": null,
   "metadata": {},
   "outputs": [
    {
     "name": "stdout",
     "output_type": "stream",
     "text": [
      "      predicted\n",
      "actual  B  M\n",
      "     B 50  1\n",
      "     M  3 46\n"
     ]
    }
   ],
   "source": [
    "# Confusion Matrix\n",
    "t <- table(actual = test_label,predicted = p)\n",
    "print(t)"
   ]
  },
  {
   "cell_type": "code",
   "execution_count": 13,
   "metadata": {},
   "outputs": [
    {
     "name": "stdout",
     "output_type": "stream",
     "text": [
      "    B   M\n",
      "B  58   1\n",
      "M   4  37\n"
     ]
    }
   ],
   "source": [
    "# Generate confusion matrix\n",
    "t = confusion_matrix(test_label, p)\n",
    "\n",
    "# Optional: Display with row/column labels for clarity\n",
    "t_df = pd.DataFrame(t, index=knn.classes_, columns=knn.classes_)\n",
    "\n",
    "print(t_df)\n"
   ]
  },
  {
   "cell_type": "code",
   "execution_count": null,
   "metadata": {},
   "outputs": [],
   "source": [
    "TN <- t[1,1]\n",
    "TP <- t[2,2]\n",
    "FN <- t[2,1]\n",
    "FP <- t[1,2]"
   ]
  },
  {
   "cell_type": "code",
   "execution_count": 14,
   "metadata": {},
   "outputs": [],
   "source": [
    "# If t is a numpy array from confusion_matrix()\n",
    "TN = t[0, 0]\n",
    "TP = t[1, 1]\n",
    "FN = t[1, 0]\n",
    "FP = t[0, 1]\n"
   ]
  },
  {
   "cell_type": "code",
   "execution_count": null,
   "metadata": {},
   "outputs": [
    {
     "name": "stdout",
     "output_type": "stream",
     "text": [
      "Accuracy: 0.96"
     ]
    }
   ],
   "source": [
    "accuracy <- (TN + TP) / (TN +  TP + FN + FP )\n",
    "cat(\"Accuracy:\", accuracy)"
   ]
  },
  {
   "cell_type": "code",
   "execution_count": 15,
   "metadata": {},
   "outputs": [
    {
     "name": "stdout",
     "output_type": "stream",
     "text": [
      "Accuracy: 0.95\n"
     ]
    }
   ],
   "source": [
    "accuracy =(TN + TP) / (TN +  TP + FN + FP )\n",
    "print(\"Accuracy:\", accuracy)"
   ]
  },
  {
   "cell_type": "code",
   "execution_count": null,
   "metadata": {},
   "outputs": [
    {
     "name": "stdout",
     "output_type": "stream",
     "text": [
      "Sensitivity: 0.9387755"
     ]
    }
   ],
   "source": [
    "sensitivity <- TP / (TP + FN) \n",
    "cat(\"Sensitivity:\", sensitivity)"
   ]
  },
  {
   "cell_type": "code",
   "execution_count": 16,
   "metadata": {},
   "outputs": [
    {
     "name": "stdout",
     "output_type": "stream",
     "text": [
      "Sensitivity: 0.9024390243902439\n"
     ]
    }
   ],
   "source": [
    "sensitivity = TP / (TP + FN) \n",
    "print(\"Sensitivity:\", sensitivity)"
   ]
  },
  {
   "cell_type": "code",
   "execution_count": null,
   "metadata": {},
   "outputs": [
    {
     "name": "stdout",
     "output_type": "stream",
     "text": [
      "Specificity: 0.9803922"
     ]
    }
   ],
   "source": [
    "specificity <- TN / (TN + FP)\n",
    "cat(\"Specificity:\", specificity)"
   ]
  },
  {
   "cell_type": "code",
   "execution_count": 17,
   "metadata": {},
   "outputs": [
    {
     "name": "stdout",
     "output_type": "stream",
     "text": [
      "Specificity: 0.9830508474576272\n"
     ]
    }
   ],
   "source": [
    "specificity = TN / (TN + FP)\n",
    "print(\"Specificity:\", specificity)"
   ]
  },
  {
   "cell_type": "code",
   "execution_count": null,
   "metadata": {},
   "outputs": [
    {
     "name": "stdout",
     "output_type": "stream",
     "text": [
      "Precision: 0.9787234"
     ]
    }
   ],
   "source": [
    "precision <- TP / (TP + FP)\n",
    "cat(\"Precision:\", precision)"
   ]
  },
  {
   "cell_type": "code",
   "execution_count": 18,
   "metadata": {},
   "outputs": [
    {
     "name": "stdout",
     "output_type": "stream",
     "text": [
      "Precision: 0.9736842105263158\n"
     ]
    }
   ],
   "source": [
    "precision = TP / (TP + FP)\n",
    "print(\"Precision:\", precision)"
   ]
  },
  {
   "cell_type": "code",
   "execution_count": null,
   "metadata": {},
   "outputs": [],
   "source": []
  }
 ],
 "metadata": {
  "kernelspec": {
   "display_name": "base",
   "language": "python",
   "name": "python3"
  },
  "language_info": {
   "codemirror_mode": {
    "name": "ipython",
    "version": 3
   },
   "file_extension": ".py",
   "mimetype": "text/x-python",
   "name": "python",
   "nbconvert_exporter": "python",
   "pygments_lexer": "ipython3",
   "version": "3.12.7"
  }
 },
 "nbformat": 4,
 "nbformat_minor": 2
}
