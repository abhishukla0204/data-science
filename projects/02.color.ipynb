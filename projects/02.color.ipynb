{
 "cells": [
  {
   "cell_type": "code",
   "execution_count": 1,
   "metadata": {},
   "outputs": [],
   "source": [
    "import pandas as pd\n",
    "import matplotlib.pyplot as plt"
   ]
  },
  {
   "cell_type": "code",
   "execution_count": null,
   "metadata": {},
   "outputs": [],
   "source": [
    "h <- read.csv(\"../datasets/hair_eye_color_csv.csv\")\n"
   ]
  },
  {
   "cell_type": "code",
   "execution_count": 5,
   "metadata": {},
   "outputs": [],
   "source": [
    "df=pd.read_csv(\"../datasets/hair_eye_color_csv.csv\")\n"
   ]
  },
  {
   "cell_type": "markdown",
   "metadata": {},
   "source": [
    "    2. Write a single R code to display the answers the following questions\n",
    "\n",
    "Case Study: Hair Eye color Data set\n",
    "\n",
    "    1. How many people have brown eye color?\n",
    "    2. How many people have Blonde hair?\n",
    "    3. How many Brown haired people have Black eyes?\n",
    "    4. What is the percentage of people with Green eyes?\n",
    "    5. What percentage of people have red hair and Blue eyes?"
   ]
  },
  {
   "cell_type": "code",
   "execution_count": null,
   "metadata": {},
   "outputs": [
    {
     "name": "stdout",
     "output_type": "stream",
     "text": [
      "\n",
      "Number of people have brown eye color:  10\n",
      "Number of people have Blonde hair:  6\n",
      "Number of Brown haired people have Black eyes;  2\n",
      "Percentage of people with Green eyes:  10\n",
      "percentage of people have red hair and Blue eyes:  5"
     ]
    }
   ],
   "source": [
    "\n",
    "#1\n",
    "\n",
    "brown_eye_count <- sum(h$Eye.Color == \"Brown\")\n",
    "cat(\"\\nNumber of people have brown eye color: \", brown_eye_count)\n",
    "\n",
    "#2\n",
    "\n",
    "blll <- sum(h$Hair.Color == \"Blonde\")\n",
    "#blll\n",
    "cat(\"\\nNumber of people have Blonde hair: \", blll)\n",
    "\n",
    "#3\n",
    "\n",
    "\n",
    "grrr <- sum(h$Eye.Color == \"Green\")\n",
    "#grrr\n",
    "#length(h$Person.No.)\n",
    "pp <- grrr * 100 / length(h$Person.No.)\n",
    "cat(\"\\nNumber of Brown haired people have Black eyes; \", grrr)\n",
    "\n",
    "\n",
    "#4\n",
    "pp <- grrr * 100 / length(h$Person.No.)\n",
    "cat(\"\\nPercentage of people with Green eyes: \", pp)\n",
    "\n",
    "#5\n",
    "rr <- sum(h$Hair.Color == \"Red\" & h$Eye.Color == \"Blue\")\n",
    "#rr\n",
    "\n",
    "#length(h$Person.No.)\n",
    "aa <- rr * 100 / length(h$Person.No.)\n",
    "cat(\"\\npercentage of people have red hair and Blue eyes: \",aa )"
   ]
  },
  {
   "cell_type": "code",
   "execution_count": 9,
   "metadata": {},
   "outputs": [
    {
     "name": "stdout",
     "output_type": "stream",
     "text": [
      "Number of people have brown eye color:  10\n",
      "Number of people have Blonde hair:  6\n",
      "Number of Brown haired people have Black eyes;  2\n",
      "Percentage of people with Green eyes:  10.0\n",
      "percentage of people have red hair and Blue eyes:  5.0\n"
     ]
    }
   ],
   "source": [
    "# 1. Number of people with Brown eyes\n",
    "brown_eye_count = (df['Eye Color'] == \"Brown\").sum()\n",
    "print(\"Number of people have brown eye color: \", brown_eye_count)\n",
    "\n",
    "# 2. Number of people with Blonde hair\n",
    "blll = (df['Hair Color'] == \"Blonde\").sum()\n",
    "print(\"Number of people have Blonde hair: \", blll)\n",
    "\n",
    "# 3. Number of people with Green eyes\n",
    "grrr = (df['Eye Color'] == \"Green\").sum()\n",
    "pp = grrr * 100 / len(df['Person No.'])\n",
    "print(\"Number of Brown haired people have Black eyes; \", grrr)\n",
    "\n",
    "# 4. Percentage of people with Green eyes\n",
    "pp = grrr * 100 / len(df['Person No.'])\n",
    "print(\"Percentage of people with Green eyes: \", pp)\n",
    "\n",
    "# 5. Percentage of people with Red hair and Blue eyes\n",
    "rr = ((df['Hair Color'] == \"Red\") & (df['Eye Color'] == \"Blue\")).sum()\n",
    "aa = rr * 100 / len(df['Person No.'])\n",
    "print(\"percentage of people have red hair and Blue eyes: \", aa)\n"
   ]
  },
  {
   "cell_type": "code",
   "execution_count": null,
   "metadata": {},
   "outputs": [
    {
     "data": {
      "text/html": [
       "6"
      ],
      "text/latex": [
       "6"
      ],
      "text/markdown": [
       "6"
      ],
      "text/plain": [
       "[1] 6"
      ]
     },
     "metadata": {},
     "output_type": "display_data"
    },
    {
     "name": "stdout",
     "output_type": "stream",
     "text": [
      "\n",
      "Number of people have Blonde hair 6"
     ]
    }
   ],
   "source": [
    "blll <- sum(h$Hair.Color == \"Blonde\")\n",
    "blll\n",
    "cat(\"\\nNumber of people have Blonde hair\", blll)"
   ]
  },
  {
   "cell_type": "code",
   "execution_count": 10,
   "metadata": {},
   "outputs": [
    {
     "name": "stdout",
     "output_type": "stream",
     "text": [
      "6\n",
      "\n",
      "Number of people have Blonde hair 6\n"
     ]
    }
   ],
   "source": [
    "blll = (df['Hair Color'] == \"Blonde\").sum()\n",
    "print(blll)\n",
    "print(\"\\nNumber of people have Blonde hair\", blll)\n"
   ]
  },
  {
   "cell_type": "code",
   "execution_count": null,
   "metadata": {},
   "outputs": [
    {
     "name": "stdout",
     "output_type": "stream",
     "text": [
      "\n",
      "Number of Brown haired people have Black eyes 2"
     ]
    }
   ],
   "source": [
    "grrr <- sum(h$Eye.Color == \"Green\")\n",
    "#grrr\n",
    "#length(h$Person.No.)\n",
    "pp <- grrr * 100 / length(h$Person.No.)\n",
    "cat(\"\\nNumber of Brown haired people have Black eyes\", grrr)"
   ]
  },
  {
   "cell_type": "code",
   "execution_count": 12,
   "metadata": {},
   "outputs": [
    {
     "name": "stdout",
     "output_type": "stream",
     "text": [
      "\n",
      "Number of Brown haired people have Black eyes 2\n"
     ]
    }
   ],
   "source": [
    "grrr = (df['Eye Color'] == \"Green\").sum()\n",
    "pp = grrr * 100 / len(df['Person No.']) \n",
    "print(\"\\nNumber of Brown haired people have Black eyes\", grrr)\n"
   ]
  },
  {
   "cell_type": "code",
   "execution_count": null,
   "metadata": {},
   "outputs": [
    {
     "name": "stdout",
     "output_type": "stream",
     "text": [
      "\n",
      "Percentage of people with Green eyes 10"
     ]
    }
   ],
   "source": [
    "pp <- grrr * 100 / length(h$Person.No.)\n",
    "cat(\"\\nPercentage of people with Green eyes\", pp)"
   ]
  },
  {
   "cell_type": "code",
   "execution_count": 13,
   "metadata": {},
   "outputs": [
    {
     "name": "stdout",
     "output_type": "stream",
     "text": [
      "\n",
      "Percentage of people with Green eyes 10.0\n"
     ]
    }
   ],
   "source": [
    "pp = grrr * 100 / len(df['Person No.'])  \n",
    "print(\"\\nPercentage of people with Green eyes\", pp)\n"
   ]
  },
  {
   "cell_type": "code",
   "execution_count": null,
   "metadata": {},
   "outputs": [
    {
     "name": "stdout",
     "output_type": "stream",
     "text": [
      "\n",
      "percentage of people have red hair and Blue eyes:  5"
     ]
    }
   ],
   "source": [
    "rr <- sum(h$Hair.Color == \"Red\" & h$Eye.Color == \"Blue\")\n",
    "#rr\n",
    "\n",
    "#length(h$Person.No.)\n",
    "aa <- rr * 100 / length(h$Person.No.)\n",
    "cat(\"\\npercentage of people have red hair and Blue eyes: \",aa )"
   ]
  },
  {
   "cell_type": "code",
   "execution_count": 15,
   "metadata": {},
   "outputs": [
    {
     "name": "stdout",
     "output_type": "stream",
     "text": [
      "\n",
      "percentage of people have red hair and Blue eyes:  5.0\n"
     ]
    }
   ],
   "source": [
    "rr = ((df['Hair Color'] == \"Red\") & (df['Eye Color'] == \"Blue\")).sum()\n",
    "aa = rr * 100 / len(df['Person No.'])  # Or len(df) if preferred\n",
    "print(\"\\npercentage of people have red hair and Blue eyes: \", aa)\n"
   ]
  },
  {
   "cell_type": "code",
   "execution_count": null,
   "metadata": {},
   "outputs": [],
   "source": []
  },
  {
   "cell_type": "code",
   "execution_count": null,
   "metadata": {},
   "outputs": [],
   "source": []
  }
 ],
 "metadata": {
  "kernelspec": {
   "display_name": "base",
   "language": "python",
   "name": "python3"
  },
  "language_info": {
   "codemirror_mode": {
    "name": "ipython",
    "version": 3
   },
   "file_extension": ".py",
   "mimetype": "text/x-python",
   "name": "python",
   "nbconvert_exporter": "python",
   "pygments_lexer": "ipython3",
   "version": "3.12.7"
  }
 },
 "nbformat": 4,
 "nbformat_minor": 2
}
